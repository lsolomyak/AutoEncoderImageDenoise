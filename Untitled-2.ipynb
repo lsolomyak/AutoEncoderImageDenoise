{
 "cells": [
  {
   "cell_type": "markdown",
   "metadata": {},
   "source": [
    "# Image Denoising Tutorial 1"
   ]
  },
  {
   "cell_type": "markdown",
   "metadata": {},
   "source": [
    "The purpose of this notebook is to practice working with denosiing synthetic data using the following notebooks/data etc https://github.com/Greveley/AutoEncoderImageDenoise/tree/master\n",
    "\n",
    "Stage 1: Synthetic Data Training\n",
    "Generate Data:\n",
    "Synthetic seismograms of a random number of seismic events are generated using a ricker wavelet. Random characteristics of these seismic events include:\n",
    "\n",
    "Frequency (between 10 and 70Hz)\n",
    "Angle (beween +/- 50 degrees)\n",
    "Amplitude (between +/- 2) These seismograms are the target output of the network. A random level of Gaussian noise is then added to the clean seismic data; this dataset is the input to the network.\n",
    "Model generation:\n",
    "A number of models have been (and still are being) tested to give optimum results. These models include:\n",
    "\n",
    "Convolutional autoencoders applied over windows of the input images. *** results shown below from this model type ***\n",
    "Unet architecture model.\n",
    "1D Artificial neural network.\n",
    "1D Convolutional neural network.\n",
    "Fitting models:\n",
    "These models are then fit to the synthetic data to effectively remove the random noise. Optimizer = SGD, loss function = MSE."
   ]
  },
  {
   "cell_type": "markdown",
   "metadata": {},
   "source": []
  }
 ],
 "metadata": {
  "kernelspec": {
   "display_name": "base",
   "language": "python",
   "name": "python3"
  },
  "language_info": {
   "codemirror_mode": {
    "name": "ipython",
    "version": 3
   },
   "file_extension": ".py",
   "mimetype": "text/x-python",
   "name": "python",
   "nbconvert_exporter": "python",
   "pygments_lexer": "ipython3",
   "version": "3.9.7"
  },
  "orig_nbformat": 4
 },
 "nbformat": 4,
 "nbformat_minor": 2
}
