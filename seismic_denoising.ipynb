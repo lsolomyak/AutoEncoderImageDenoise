{
  "cells": [
    {
      "cell_type": "markdown",
      "metadata": {
        "id": "view-in-github",
        "colab_type": "text"
      },
      "source": [
        "<a href=\"https://colab.research.google.com/github/lsolomyak/AutoEncoderImageDenoise/blob/master/seismic_denoising.ipynb\" target=\"_parent\"><img src=\"https://colab.research.google.com/assets/colab-badge.svg\" alt=\"Open In Colab\"/></a>"
      ]
    },
    {
      "cell_type": "markdown",
      "metadata": {
        "id": "JyMv72RQn20N"
      },
      "source": [
        "# Denoising pipeline"
      ]
    },
    {
      "cell_type": "code",
      "source": [
        "!nvidia-smi"
      ],
      "metadata": {
        "colab": {
          "base_uri": "https://localhost:8080/"
        },
        "id": "Yt52-e-37Ztf",
        "outputId": "a1915030-20a0-4139-e145-9279dd0eceb9"
      },
      "execution_count": null,
      "outputs": [
        {
          "output_type": "stream",
          "name": "stdout",
          "text": [
            "Mon Aug 21 07:06:55 2023       \n",
            "+-----------------------------------------------------------------------------+\n",
            "| NVIDIA-SMI 525.105.17   Driver Version: 525.105.17   CUDA Version: 12.0     |\n",
            "|-------------------------------+----------------------+----------------------+\n",
            "| GPU  Name        Persistence-M| Bus-Id        Disp.A | Volatile Uncorr. ECC |\n",
            "| Fan  Temp  Perf  Pwr:Usage/Cap|         Memory-Usage | GPU-Util  Compute M. |\n",
            "|                               |                      |               MIG M. |\n",
            "|===============================+======================+======================|\n",
            "|   0  Tesla T4            Off  | 00000000:00:04.0 Off |                    0 |\n",
            "| N/A   62C    P8    11W /  70W |      0MiB / 15360MiB |      0%      Default |\n",
            "|                               |                      |                  N/A |\n",
            "+-------------------------------+----------------------+----------------------+\n",
            "                                                                               \n",
            "+-----------------------------------------------------------------------------+\n",
            "| Processes:                                                                  |\n",
            "|  GPU   GI   CI        PID   Type   Process name                  GPU Memory |\n",
            "|        ID   ID                                                   Usage      |\n",
            "|=============================================================================|\n",
            "|  No running processes found                                                 |\n",
            "+-----------------------------------------------------------------------------+\n"
          ]
        }
      ]
    },
    {
      "cell_type": "code",
      "execution_count": 4,
      "metadata": {
        "colab": {
          "base_uri": "https://localhost:8080/"
        },
        "id": "NF52syNGoA9o",
        "outputId": "eee574c7-7258-44da-8aa8-34b5aeceacab"
      },
      "outputs": [
        {
          "output_type": "stream",
          "name": "stdout",
          "text": [
            "Drive already mounted at /content/drive; to attempt to forcibly remount, call drive.mount(\"/content/drive\", force_remount=True).\n"
          ]
        }
      ],
      "source": [
        "from google.colab import drive\n",
        "drive.mount('/content/drive')"
      ]
    },
    {
      "cell_type": "code",
      "source": [
        "import numpy as np\n",
        "import matplotlib.pyplot as plt\n",
        "\n",
        "# Load the .npy file\n",
        "eg_file = np.load('/content/drive/MyDrive/Team CGG/Data/synth_data/npy_input/train/synth_clean/image_0.npy')\n",
        "\n",
        "# Print the shape\n",
        "print(\"Shape:\", eg_file.shape)\n",
        "\n",
        "# Visualize the data (if it's 2D)\n",
        "if eg_file.ndim == 2:\n",
        "    plt.imshow(eg_file, cmap='gray')\n",
        "    plt.show()"
      ],
      "metadata": {
        "colab": {
          "base_uri": "https://localhost:8080/",
          "height": 166
        },
        "id": "lfgofTddxe0V",
        "outputId": "8acff915-c4f7-4ee9-88c8-aa4a4b5d94e9"
      },
      "execution_count": 9,
      "outputs": [
        {
          "output_type": "stream",
          "name": "stdout",
          "text": [
            "Shape: (501, 3000)\n"
          ]
        },
        {
          "output_type": "display_data",
          "data": {
            "text/plain": [
              "<Figure size 640x480 with 1 Axes>"
            ],
            "image/png": "[encoded data removed]"
          },
          "metadata": {}
        }
      ]
    },
    {
      "cell_type": "markdown",
      "metadata": {
        "id": "T78QqgwGn20c"
      },
      "source": [
        "### Introduction\n",
        "\n",
        ">**note** we assume you have run through segy_import_npy_output and have the necessary npy files loaded and ready to go\n",
        "\n",
        "In seismic data, a trace represents the recorded seismic energy as it travels through the Earth and is detected by a receiver. It's a continuous time series of amplitude values that reflect the subsurface geological structure. In the given code, the trace data is extracted from a SEGY file, which is a standard format for storing seismic data, and then plotted to visualize the waveform. This can provide insights into the properties and composition of underground layers, such as rock formations and potential hydrocarbon reservoirs.\n",
        "\n"
      ]
    },
    {
      "cell_type": "markdown",
      "metadata": {
        "id": "d1cqzsMcn20g"
      },
      "source": [
        "the code has read a single 2D slice from the 3D SEGY file, corresponding to a specific inline. This 2D slice can be thought of as an \"image\" of the subsurface along that inline, with the horizontal axis representing crosslines and the vertical axis representing time or depth."
      ]
    },
    {
      "cell_type": "code",
      "execution_count": 10,
      "metadata": {
        "id": "ixTKgANUn20i"
      },
      "outputs": [],
      "source": [
        "import sys\n",
        "sys.path.append('../scripts')\n",
        "\n",
        "import pandas as pd\n",
        "import numpy as np\n",
        "import matplotlib.pyplot as plt\n",
        "\n",
        "from sklearn.preprocessing import MinMaxScaler,StandardScaler\n",
        "from sklearn.model_selection import train_test_split\n",
        "from tensorflow import reduce_mean\n",
        "from tensorflow.image import ssim\n",
        "from tensorflow.keras.callbacks import EarlyStopping\n",
        "from tensorflow.keras.optimizers import Adam,SGD\n",
        "import tensorflow as tf\n",
        "import random\n",
        "import gc\n",
        "#from patchify import patchify, unpatchify"
      ]
    },
    {
      "cell_type": "markdown",
      "metadata": {
        "id": "Sft9nnPln20j"
      },
      "source": [
        "The problem we have here is that our images are 501 x 3000 which are terrible numbers to work with- so we pad it by 504 before resizing for windows of 32x70-(those windows are arbitrary but hopefully allow for a kernel of 6x7)"
      ]
    },
    {
      "cell_type": "markdown",
      "metadata": {
        "id": "l6K0mdw3n20k"
      },
      "source": [
        "- **resize Function:**\n",
        "  \n",
        "  - **not** to be confused with padding the window- here we are just turning the images into larges pictures so that they are more easily divisble into 512x512 windows\n",
        "  - This function pads an image to make its dimensions divisible by the window size.\n",
        "  - Padding is added at the bottom and right edges of the image.\n",
        "\n",
        "note- we save it as float32 which is easier for the cpu\n",
        "\n",
        "- **Image to Windows Conversion Function:**\n",
        "  - This function takes an image and divides it into non-overlapping windows of size \\( h \\times w \\).*italicized text*\n",
        "  - It uses the `pad_image` function to ensure that the dimensions are divisible by the window size.\n"
      ]
    },
    {
      "cell_type": "code",
      "execution_count": 12,
      "metadata": {
        "id": "XjccFNXRn20m"
      },
      "outputs": [],
      "source": [
        "def resize_image(image):\n",
        "    #Good thing for us to check that  the original image is of shape (501, 3000)\n",
        "    assert image.shape == (501, 3000), \"Input image shape must be (501, 3000)\"\n",
        "    x_addition = np.zeros((11, 3000))\n",
        "    y_addition = np.zeros((512, 72))\n",
        "    image = np.concatenate((image, x_addition), axis=0)\n",
        "    image = np.concatenate((image, y_addition), axis=1)\n",
        "\n",
        "    return image\n",
        "\n",
        "\n",
        "def img2windows(image, h, w):\n",
        "    cropped_image = resize_image(image)\n",
        "    return [cropped_image[i:i+h, j:j+w] for i in range(0, cropped_image.shape[0], h) for j in range(0, cropped_image.shape[1], w)]\n"
      ]
    },
    {
      "cell_type": "markdown",
      "metadata": {
        "id": "JWRh7TM3n20o"
      },
      "source": [
        "- **Data Generator Function:**\n",
        "  - This function generates batches of clean and noisy window pairs from the given folder path.\n",
        "\n",
        "> please not the *modification* now the batch size will determine how many windows are passed not how many full images are passed down\n",
        "\n",
        "Now if you want to test your script- rather than running it on all the data (it takes a long time) you can hold out and only train it on the number of slices you want\n",
        "\n"
      ]
    },
    {
      "cell_type": "code",
      "execution_count": 52,
      "metadata": {
        "id": "4VtBOzcNn20p"
      },
      "outputs": [],
      "source": [
        "def data_generator(folder_path, h, w, batch_size, full_train=True):\n",
        "    clean_folder = [os.path.join(folder_path, f) for f in os.listdir(folder_path) if 'clean' in f][0]\n",
        "    noisy_folder = [os.path.join(folder_path, f) for f in os.listdir(folder_path) if 'noisy' in f][0]\n",
        "    clean_file_names = [f for f in os.listdir(clean_folder) if f.endswith('.npy')]\n",
        "\n",
        "    # If not full_train, select only 8 random files\n",
        "    if not full_train:\n",
        "        clean_file_names = random.sample(clean_file_names, 4)\n",
        "\n",
        "    print(len(clean_file_names))\n",
        "    random.seed(42)\n",
        "    random.shuffle(clean_file_names)\n",
        "\n",
        "    while True:\n",
        "        all_clean_windows = []\n",
        "        all_noisy_windows = []\n",
        "\n",
        "        for clean_file in clean_file_names:\n",
        "            clean_image = np.load(os.path.join(clean_folder, clean_file)).astype(np.float32)\n",
        "            noisy_image = np.load(os.path.join(noisy_folder, clean_file)).astype(np.float32)\n",
        "\n",
        "            all_clean_windows.extend(img2windows(clean_image, h, w))\n",
        "            all_noisy_windows.extend(img2windows(noisy_image, h, w))\n",
        "        for start_idx in range(0, len(all_clean_windows), batch_size):\n",
        "            end_idx = min(start_idx + batch_size, len(all_clean_windows))\n",
        "            clean_windows = np.array(all_clean_windows[start_idx:end_idx])\n",
        "            noisy_windows = np.array(all_noisy_windows[start_idx:end_idx])\n",
        "            yield (clean_windows, noisy_windows)\n",
        "\n",
        "        # Force garbage collection\n",
        "        gc.collect()\n",
        "\n",
        "\n",
        "\n",
        "\n",
        "\n"
      ]
    },
    {
      "cell_type": "markdown",
      "metadata": {
        "id": "eWEXD2DGn20r"
      },
      "source": [
        "### visualizing the windows\n",
        "\n",
        "its quite nice to see side by side how the noisy and clean images look"
      ]
    },
    {
      "cell_type": "code",
      "execution_count": 54,
      "metadata": {
        "colab": {
          "base_uri": "https://localhost:8080/"
        },
        "id": "4KYZ8TiOn20r",
        "outputId": "9a2ef32c-2a98-42d8-a1b8-46776a90e8a7"
      },
      "outputs": [
        {
          "output_type": "stream",
          "name": "stdout",
          "text": [
            "/content\n",
            "4\n",
            "(384, 64, 64)\n"
          ]
        }
      ],
      "source": [
        "import os\n",
        "\n",
        "\n",
        "def visualize_windows(clean_windows, noisy_windows, num_rows=2, num_cols=2):\n",
        "    fig, axs = plt.subplots(num_rows, num_cols, figsize=(15, 10))\n",
        "\n",
        "    for row in range(num_rows):\n",
        "        for col in range(num_cols):\n",
        "            idx = random.randint(0, len(clean_windows) - 1)\n",
        "            clean_window = clean_windows[idx]\n",
        "            noisy_window = noisy_windows[idx]\n",
        "\n",
        "            axs[row, col].imshow(np.hstack((clean_window, noisy_window)), cmap='gray', aspect='auto')\n",
        "            axs[row, col].set_title('Left: Clean | Right: Noisy')\n",
        "            axs[row, col].axis('off')\n",
        "\n",
        "    plt.tight_layout()\n",
        "    plt.show()\n",
        "print(os.getcwd())\n",
        "h = 64\n",
        "w = 64\n",
        "# 384 is one full image so use multiples of this number\n",
        "batch_size = 384\n",
        "folder_path_train = '/content/drive/MyDrive/Team CGG/Data/synth_data/npy_input/train'\n",
        "folder_path_test =  '/content/drive/MyDrive/Team CGG/Data/synth_data/npy_input/test'\n",
        "\n",
        "train_generator = data_generator(folder_path_train, h, w, batch_size,full_train=False)\n",
        "test_generator = data_generator(folder_path_test, h, w, batch_size,full_train=False)\n",
        "\n",
        "clean_batch_train, noisy_batch_train = next(train_generator)\n",
        "\n",
        "print(clean_batch_train.shape)\n",
        "\n",
        "#visualize_windows(clean_batch_train, noisy_batch_train)\n"
      ]
    },
    {
      "cell_type": "markdown",
      "metadata": {
        "id": "IyyzEAten20s"
      },
      "source": [
        "### Choosing an autoencoder model"
      ]
    },
    {
      "cell_type": "code",
      "execution_count": 43,
      "metadata": {
        "colab": {
          "base_uri": "https://localhost:8080/"
        },
        "id": "qlvEw2nTn20t",
        "outputId": "1add9fa6-6955-4c16-cc97-577c8b11385e"
      },
      "outputs": [
        {
          "output_type": "stream",
          "name": "stdout",
          "text": [
            "Model: \"model_1\"\n",
            "_________________________________________________________________\n",
            " Layer (type)                Output Shape              Param #   \n",
            "=================================================================\n",
            " input_2 (InputLayer)        [(None, 64, 64, 1)]       0         \n",
            "                                                                 \n",
            " conv2d_3 (Conv2D)           (None, 64, 64, 16)        160       \n",
            "                                                                 \n",
            " max_pooling2d_2 (MaxPooling  (None, 32, 32, 16)       0         \n",
            " 2D)                                                             \n",
            "                                                                 \n",
            " conv2d_4 (Conv2D)           (None, 32, 32, 32)        4640      \n",
            "                                                                 \n",
            " max_pooling2d_3 (MaxPooling  (None, 16, 16, 32)       0         \n",
            " 2D)                                                             \n",
            "                                                                 \n",
            " conv2d_transpose_2 (Conv2DT  (None, 32, 32, 32)       9248      \n",
            " ranspose)                                                       \n",
            "                                                                 \n",
            " conv2d_transpose_3 (Conv2DT  (None, 64, 64, 16)       4624      \n",
            " ranspose)                                                       \n",
            "                                                                 \n",
            " conv2d_5 (Conv2D)           (None, 64, 64, 1)         145       \n",
            "                                                                 \n",
            "=================================================================\n",
            "Total params: 18,817\n",
            "Trainable params: 18,817\n",
            "Non-trainable params: 0\n",
            "_________________________________________________________________\n"
          ]
        }
      ],
      "source": [
        "# Importing necessary libraries\n",
        "from tensorflow.keras import layers, models\n",
        "\n",
        "def simple_autoencoder(input_shape):\n",
        "    inputs = tf.keras.Input(shape=input_shape)\n",
        "\n",
        "    # Encoding Path\n",
        "    x = layers.Conv2D(16, (3, 3), activation='elu', padding='same')(inputs)\n",
        "    x = layers.MaxPooling2D((2, 2), padding='same')(x)\n",
        "    x = layers.Conv2D(32, (3, 3), activation='elu', padding='same')(x)\n",
        "    x = layers.MaxPooling2D((2, 2), padding='same')(x)\n",
        "\n",
        "    # Decoding Path\n",
        "    x = layers.Conv2DTranspose(32, (3, 3), strides=(2, 2), activation='relu', padding='same')(x)\n",
        "    x = layers.Conv2DTranspose(16, (3, 3), strides=(2, 2), activation='relu', padding='same')(x)\n",
        "\n",
        "    # Output layer with the original shape\n",
        "    outputs = layers.Conv2D(input_shape[-1], (3, 3), activation=None, padding='same')(x)\n",
        "\n",
        "    return models.Model(inputs, outputs)\n",
        "\n",
        "input_shape = (64, 64, 1)\n",
        "simple_autoencoder_model = simple_autoencoder(input_shape)\n",
        "simple_autoencoder_model.summary()\n",
        "\n",
        "\n"
      ]
    },
    {
      "cell_type": "code",
      "execution_count": 44,
      "metadata": {
        "id": "GHdruzfan20u"
      },
      "outputs": [],
      "source": [
        "simple_autoencoder_model.compile(optimizer='adam', loss='mse', run_eagerly=False)\n",
        "# Creating callback for training\n",
        "from tensorflow.keras.callbacks import EarlyStopping\n",
        "\n",
        "callback = EarlyStopping(\n",
        "    monitor=\"val_loss\",\n",
        "    min_delta=0.001,\n",
        "    patience=10,\n",
        "    verbose=0,\n",
        "    mode=\"auto\",\n",
        "    baseline=None,\n",
        "    restore_best_weights=True,\n",
        ")"
      ]
    },
    {
      "cell_type": "markdown",
      "metadata": {
        "id": "9IB0BNOTn20w"
      },
      "source": [
        "note this data generator is good specifically if we want to use a binary classifier approach"
      ]
    },
    {
      "cell_type": "code",
      "execution_count": 45,
      "metadata": {
        "colab": {
          "base_uri": "https://localhost:8080/"
        },
        "id": "BeE4v4thn20w",
        "outputId": "a03caf1a-ea45-4e8c-81c3-909d3ff32e8a"
      },
      "outputs": [
        {
          "output_type": "stream",
          "name": "stdout",
          "text": [
            "384\n",
            "Epoch 1/5\n",
            "4/4 [==============================] - ETA: 0s - loss: 0.9453"
          ]
        },
        {
          "output_type": "stream",
          "name": "stderr",
          "text": [
            "WARNING:tensorflow:Early stopping conditioned on metric `val_loss` which is not available. Available metrics are: loss\n"
          ]
        },
        {
          "output_type": "stream",
          "name": "stdout",
          "text": [
            "\b\b\b\b\b\b\b\b\b\b\b\b\b\b\b\b\b\b\b\b\b\b\b\b\b\b\b\b\b\b\b\b\b\b\b\b\b\b\b\b\b\b\b\b\b\b\b\b\b\b\b\b\b\b\b\b\b\b\b\b\b\r4/4 [==============================] - 5s 86ms/step - loss: 0.9453\n",
            "Epoch 2/5\n",
            "4/4 [==============================] - ETA: 0s - loss: 0.8856"
          ]
        },
        {
          "output_type": "stream",
          "name": "stderr",
          "text": [
            "WARNING:tensorflow:Early stopping conditioned on metric `val_loss` which is not available. Available metrics are: loss\n"
          ]
        },
        {
          "output_type": "stream",
          "name": "stdout",
          "text": [
            "\b\b\b\b\b\b\b\b\b\b\b\b\b\b\b\b\b\b\b\b\b\b\b\b\b\b\b\b\b\b\b\b\b\b\b\b\b\b\b\b\b\b\b\b\b\b\b\b\b\b\b\b\b\b\b\b\b\b\b\b\b\r4/4 [==============================] - 0s 66ms/step - loss: 0.8856\n",
            "Epoch 3/5\n",
            "4/4 [==============================] - ETA: 0s - loss: 0.7753"
          ]
        },
        {
          "output_type": "stream",
          "name": "stderr",
          "text": [
            "WARNING:tensorflow:Early stopping conditioned on metric `val_loss` which is not available. Available metrics are: loss\n"
          ]
        },
        {
          "output_type": "stream",
          "name": "stdout",
          "text": [
            "\b\b\b\b\b\b\b\b\b\b\b\b\b\b\b\b\b\b\b\b\b\b\b\b\b\b\b\b\b\b\b\b\b\b\b\b\b\b\b\b\b\b\b\b\b\b\b\b\b\b\b\b\b\b\b\b\b\b\b\b\b\r4/4 [==============================] - 2s 608ms/step - loss: 0.7753\n",
            "Epoch 4/5\n",
            "4/4 [==============================] - ETA: 0s - loss: 0.5923"
          ]
        },
        {
          "output_type": "stream",
          "name": "stderr",
          "text": [
            "WARNING:tensorflow:Early stopping conditioned on metric `val_loss` which is not available. Available metrics are: loss\n"
          ]
        },
        {
          "output_type": "stream",
          "name": "stdout",
          "text": [
            "\b\b\b\b\b\b\b\b\b\b\b\b\b\b\b\b\b\b\b\b\b\b\b\b\b\b\b\b\b\b\b\b\b\b\b\b\b\b\b\b\b\b\b\b\b\b\b\b\b\b\b\b\b\b\b\b\b\b\b\b\b\r4/4 [==============================] - 3s 722ms/step - loss: 0.5923\n",
            "Epoch 5/5\n",
            "4/4 [==============================] - ETA: 0s - loss: 0.4114"
          ]
        },
        {
          "output_type": "stream",
          "name": "stderr",
          "text": [
            "WARNING:tensorflow:Early stopping conditioned on metric `val_loss` which is not available. Available metrics are: loss\n"
          ]
        },
        {
          "output_type": "stream",
          "name": "stdout",
          "text": [
            "\b\b\b\b\b\b\b\b\b\b\b\b\b\b\b\b\b\b\b\b\b\b\b\b\b\b\b\b\b\b\b\b\b\b\b\b\b\b\b\b\b\b\b\b\b\b\b\b\b\b\b\b\b\b\b\b\b\b\b\b\b\r4/4 [==============================] - 1s 261ms/step - loss: 0.4114\n"
          ]
        },
        {
          "output_type": "execute_result",
          "data": {
            "text/plain": [
              "<keras.callbacks.History at 0x79a1561d4ca0>"
            ]
          },
          "metadata": {},
          "execution_count": 45
        }
      ],
      "source": [
        "batch_size= 384\n",
        "epochs = 5 # note should be a lot more\n",
        "number_of_windows_per_file = (512 // h) * (3072 // w)\n",
        "print(number_of_windows_per_file)\n",
        "train_file_names = [f for f in os.listdir(folder_path_train) if f.endswith('.npy') and 'clean' in f]\n",
        "total_number_of_windows = number_of_windows_per_file * len(train_file_names)\n",
        "\n",
        "\n",
        "import gc\n",
        "gc.collect()\n",
        "# Training\n",
        "simple_autoencoder_model.fit(train_generator,\n",
        "            steps_per_epoch=4,\n",
        "             epochs=epochs,\n",
        "             shuffle=True,\n",
        "             use_multiprocessing=True,\n",
        "             callbacks=[callback])\n",
        "\n",
        "# Evaluate the model on test data\n",
        "#test_loss = simple_autoencoder.evaluate(test_generator, steps=len(test_file_names) // batch_size)\n",
        "#print(\"Test loss:\", test_loss)\n",
        "\n"
      ]
    },
    {
      "cell_type": "markdown",
      "source": [
        "Tools for Debugging- Running a single batch\n",
        "**bold text**\n",
        "This is how we can run the loss function on a single batch-0t can be quite helpful for debugging"
      ],
      "metadata": {
        "id": "3xvXtuj5B4u2"
      }
    },
    {
      "cell_type": "code",
      "execution_count": null,
      "metadata": {
        "colab": {
          "base_uri": "https://localhost:8080/"
        },
        "id": "LKtqquS1n20x",
        "outputId": "c536f255-f47e-4946-8abe-529c269e74db"
      },
      "outputs": [
        {
          "name": "stdout",
          "output_type": "stream",
          "text": [
            "(1536, 64, 64)\n",
            "Loss on single batch: 0.7389211654663086\n"
          ]
        }
      ],
      "source": [
        "single_batch_input, single_batch_target = next(train_generator)\n",
        "print(single_batch_input.shape)\n",
        "loss = simple_autoencoder_model.train_on_batch(single_batch_input, single_batch_target)\n",
        "print(\"Loss on single batch:\", loss)\n"
      ]
    },
    {
      "cell_type": "markdown",
      "source": [
        "## *Saving the model*"
      ],
      "metadata": {
        "id": "kB7_ptvvGHuo"
      }
    },
    {
      "cell_type": "markdown",
      "source": [
        "Please note- this will override previous runs if you are specifying the same model and the same loss function- so be careful when running it\n",
        "\n",
        "- it will only overwrite the same model if the previous run had less/equal epochs and does not have a different loss functiion"
      ],
      "metadata": {
        "id": "0dihPRe4LaeX"
      }
    },
    {
      "cell_type": "code",
      "source": [
        "from datetime import datetime\n",
        "\n",
        "def store_hist(per_folder, model_name, model, batch_size, steps_per_epoch):\n",
        "    # Construct the file path\n",
        "    file_path = os.path.join(per_folder, 'hists.csv')\n",
        "\n",
        "    # Get the current date/time\n",
        "    run_time = datetime.now().strftime(\"%Y-%m-%d %H:%M:%S\")\n",
        "\n",
        "    # Get the loss function name\n",
        "    loss_name = str(model.loss)\n",
        "\n",
        "    # Create a DataFrame from the model history\n",
        "    hist_df = pd.DataFrame({\n",
        "        'epoch': model.history.epoch,\n",
        "        'loss': model.history.history['loss'],\n",
        "        'batch_size': [batch_size] * len(model.history.epoch),\n",
        "        'steps_per_epoch': [steps_per_epoch] * len(model.history.epoch),\n",
        "        'model': [model_name] * len(model.history.epoch),\n",
        "        'run_time': [run_time] * len(model.history.epoch),\n",
        "        'loss_function': [loss_name] * len(model.history.epoch)\n",
        "    })\n",
        "\n",
        "    # Check if the file exists, and if so, read it\n",
        "    if os.path.exists(file_path):\n",
        "        global_hist = pd.read_csv(file_path)\n",
        "\n",
        "        # Get the max epoch for the current model with the same loss function\n",
        "        max_epoch = global_hist.loc[(global_hist['model'] == model_name) & (global_hist['loss_function'] == loss_name), 'epoch'].max()\n",
        "\n",
        "        # Remove previous runs of the same model with the same loss function if the current run has an equal or greater number of epochs\n",
        "        if max_epoch is not None and max(model.history.epoch) >= max_epoch:\n",
        "            global_hist = global_hist[~((global_hist['model'] == model_name) & (global_hist['loss_function'] == loss_name))]\n",
        "\n",
        "        global_hist = pd.concat([global_hist, hist_df], axis=0)\n",
        "    else:\n",
        "        global_hist = hist_df\n",
        "\n",
        "    # Save the updated DataFrame to the CSV file\n",
        "    global_hist.to_csv(file_path, index=False)\n",
        "    return global_hist\n",
        "\n",
        "\n",
        "\n",
        "\n"
      ],
      "metadata": {
        "id": "0whz_lRYGsbJ"
      },
      "execution_count": 20,
      "outputs": []
    },
    {
      "cell_type": "markdown",
      "source": [
        "Call the function\n",
        ">  **please be careful when adjusting this - as it can overwrite other people's work**"
      ],
      "metadata": {
        "id": "3CjCuk2gMLxr"
      }
    },
    {
      "cell_type": "code",
      "source": [
        "per_folder = '/content/drive/MyDrive/Team CGG/Data/synth_data/models/perf'\n",
        "\n",
        "model_name = \"Simplest01\"\n",
        "steps_per_epoch = total_number_of_windows // batch_size\n",
        "\n",
        "#here we call the function\n",
        "hists = store_hist(per_folder, model_name, simple_autoencoder_model, batch_size, steps_per_epoch)\n",
        "\n",
        "\n"
      ],
      "metadata": {
        "id": "kM52MeuWHq92"
      },
      "execution_count": 21,
      "outputs": []
    },
    {
      "cell_type": "markdown",
      "source": [
        "The idea is that now we can visualize how different algorithms perform against each other during learning\n"
      ],
      "metadata": {
        "id": "FyCjKeUzLGzV"
      }
    },
    {
      "cell_type": "markdown",
      "source": [
        "Plotting the different functions -this is COPIED from Greverly not my function"
      ],
      "metadata": {
        "id": "yx5T6aPfMfyt"
      }
    },
    {
      "cell_type": "code",
      "source": [
        "def plot_perf(hist,models,metrics):\n",
        "    \"\"\"\n",
        "    Input:\n",
        "        models - list of strings of which models you want to compare, default is all\n",
        "        metrics - list of strings of which metrics you want to compare\"\"\"\n",
        "\n",
        "    # If empty list passed, all models are compared\n",
        "    if len(models) == 0:\n",
        "        models=list(hist[\"model\"].unique())\n",
        "    plt.figure(figsize=(12,6))\n",
        "    # Looping through all models and metrics and plotting them on the graph with appropriate labels\n",
        "    for model in models:\n",
        "        for m in metrics:\n",
        "            y_plt = hist[(hist[\"model\"]==model)][m].values\n",
        "            x_plt = range(0,len(y_plt))\n",
        "            plt.plot(x_plt,y_plt,linewidth=3,label=model+' ('+m+')')\n",
        "    plt.xlabel('Epochs')\n",
        "    plt.ylabel(m)\n",
        "    plt.legend()"
      ],
      "metadata": {
        "id": "4p3uGNLjKUBE"
      },
      "execution_count": 22,
      "outputs": []
    },
    {
      "cell_type": "markdown",
      "source": [
        "But this is how we can use it"
      ],
      "metadata": {
        "id": "dPrunPumMxVN"
      }
    },
    {
      "cell_type": "code",
      "source": [
        "plot_perf(hists,['Simplest01'],['loss'])\n"
      ],
      "metadata": {
        "colab": {
          "base_uri": "https://localhost:8080/",
          "height": 562
        },
        "id": "8zzGZst1MkOC",
        "outputId": "dadd27c5-7998-46ce-9b7a-d3a1b2d1eb46"
      },
      "execution_count": 23,
      "outputs": [
        {
          "output_type": "display_data",
          "data": {
            "text/plain": [
              "<Figure size 1200x600 with 1 Axes>"
            ],
            "image/png": "[encoded data removed]"
          },
          "metadata": {}
        }
      ]
    },
    {
      "cell_type": "code",
      "source": [
        "# lets save the model\n",
        "model_folder_path = os.path.join('/content/drive/MyDrive/Team CGG/Data/synth_data/models/', model_name)\n",
        "os.makedirs(model_folder_path, exist_ok=True)\n",
        "\n",
        "# Define the file path for saving the model inside the newly created folder\n",
        "model_file_path = os.path.join(model_folder_path, f'{model_name}.h5')\n",
        "\n",
        "# Save the entire model (including architecture, optimizer, and weights)\n",
        "simple_autoencoder_model.save(model_file_path)\n",
        "\n",
        "print(f'Model saved to {model_file_path}')"
      ],
      "metadata": {
        "colab": {
          "base_uri": "https://localhost:8080/"
        },
        "id": "--_4JtASMy4T",
        "outputId": "504739e6-8eb9-4e35-86c6-41e01e9896bd"
      },
      "execution_count": 24,
      "outputs": [
        {
          "output_type": "stream",
          "name": "stdout",
          "text": [
            "Model saved to /content/drive/MyDrive/Team CGG/Data/synth_data/models/Simplest01/Simplest01.h5\n"
          ]
        }
      ]
    },
    {
      "cell_type": "markdown",
      "source": [
        "I haven't tried to re-load it yet but the weights should be saved and available to \"pick up\" with training"
      ],
      "metadata": {
        "id": "jx7IF59JOc8i"
      }
    },
    {
      "cell_type": "markdown",
      "source": [
        "# Testing Model"
      ],
      "metadata": {
        "id": "uyIXizftPDe0"
      }
    },
    {
      "cell_type": "markdown",
      "source": [
        "Lets first run our data generator on test data"
      ],
      "metadata": {
        "id": "knDlHIRxPNa-"
      }
    },
    {
      "cell_type": "code",
      "source": [
        "clean_batch_test, noisy_batch_test = next(test_generator)\n",
        "print(clean_batch_test.shape)\n"
      ],
      "metadata": {
        "colab": {
          "base_uri": "https://localhost:8080/"
        },
        "id": "ZMbLFWKWNotV",
        "outputId": "d8497cc2-df83-45ff-f7dc-917e636711d0"
      },
      "execution_count": 25,
      "outputs": [
        {
          "output_type": "stream",
          "name": "stdout",
          "text": [
            "4\n",
            "(384, 64, 64)\n"
          ]
        }
      ]
    },
    {
      "cell_type": "code",
      "source": [
        "from tensorflow.keras.models import load_model\n",
        "\n",
        "# Create a separate test data generator for evaluation\n",
        "test_evaluation_generator = data_generator(folder_path_test, h, w, batch_size, full_train=False)\n",
        "\n",
        "# Make predictions using the test generator\n",
        "predictions = simple_autoencoder_model.predict(test_generator, steps=4)\n",
        "\n",
        "# Evaluate the model on the test evaluation generator\n",
        "test_loss = simple_autoencoder_model.evaluate(test_evaluation_generator, steps=1)\n",
        "\n",
        "print(\"Predictions shape:\", predictions.shape)\n",
        "print(\"Test loss:\", test_loss)\n",
        "\n"
      ],
      "metadata": {
        "colab": {
          "base_uri": "https://localhost:8080/"
        },
        "id": "7eCQIeP6PRa2",
        "outputId": "84e95015-185d-456e-9e1f-890a790ee4c9"
      },
      "execution_count": 26,
      "outputs": [
        {
          "output_type": "stream",
          "name": "stdout",
          "text": [
            "4/4 [==============================] - 1s 220ms/step\n",
            "4\n",
            "1/1 [==============================] - 0s 435ms/step - loss: 0.7404\n",
            "Predictions shape: (1536, 64, 64, 1)\n",
            "Test loss: 0.7404170036315918\n"
          ]
        }
      ]
    },
    {
      "cell_type": "markdown",
      "source": [
        "Note- here we are judged by the loss function that we specified in the compulation - so in this case its the MSE"
      ],
      "metadata": {
        "id": "CID2I2eDQwFz"
      }
    },
    {
      "cell_type": "code",
      "source": [
        "import numpy as np\n",
        "\n",
        "def windows2img(windows, original_shape, h, w):\n",
        "    rows = original_shape[0] // h\n",
        "    cols = original_shape[1] // w\n",
        "    combined_image = np.vstack([np.hstack(windows[i*cols:(i+1)*cols]) for i in range(rows)])\n",
        "    return combined_image\n",
        "\n",
        "\n",
        "\n"
      ],
      "metadata": {
        "id": "FcFBPno4Sz55"
      },
      "execution_count": 27,
      "outputs": []
    },
    {
      "cell_type": "code",
      "source": [
        "\n",
        "\n",
        "def visualize_images(clean_windows, noisy_windows, denoised_windows, original_shape, h, w):\n",
        "    clean_image = windows2img(clean_windows, original_shape, h, w)\n",
        "    noisy_image = windows2img(noisy_windows, original_shape, h, w)\n",
        "    denoised_image = windows2img(denoised_windows, original_shape, h, w)\n",
        "\n",
        "    # Squeeze the last dimension if it has size 1\n",
        "    if denoised_image.shape[-1] == 1:\n",
        "        denoised_image = np.squeeze(denoised_image, axis=-1)\n",
        "\n",
        "    clean_noisy_diff = clean_image - noisy_image\n",
        "    clean_denoised_diff = clean_image - denoised_image\n",
        "\n",
        "\n",
        "    fig, axs = plt.subplots(3, 2, figsize=(10, 18))\n",
        "\n",
        "    axs[0, 0].imshow(clean_image, cmap='gray')\n",
        "    axs[0, 0].set_title('Clean Image')\n",
        "    axs[0, 1].imshow(noisy_image, cmap='gray')\n",
        "    axs[0, 1].set_title('Noisy Image')\n",
        "    axs[1, 0].imshow(denoised_image, cmap='gray')\n",
        "    axs[1, 0].set_title('Denoised Image')\n",
        "    axs[1, 1].imshow(clean_noisy_diff, cmap='gray')\n",
        "    axs[1, 1].set_title('Clean - Noisy')\n",
        "    axs[2, 0].imshow(clean_denoised_diff, cmap='gray')\n",
        "    axs[2, 0].set_title('Clean - Denoised')\n",
        "\n",
        "    for ax in axs.flat:\n",
        "        ax.axis('on')\n",
        "\n",
        "    plt.subplots_adjust( hspace=0.001)\n",
        "    fig.delaxes(axs[2, 1])  # Remove the empty subplot\n",
        "\n",
        "    plt.show()\n",
        "\n",
        "\n",
        "\n",
        "# we get the next bit of data\n",
        "clean_batch_train, noisy_batch_train = next(test_generator)\n",
        "\n",
        "# Predict the denoised windows using the trained model\n",
        "denoised_batch_test = simple_autoencoder_model.predict(noisy_batch_test)\n",
        "\n",
        "# this is enlarged\n",
        "original_shape = (512, 3072)\n",
        "\n",
        "visualize_images(clean_batch_test, noisy_batch_test, denoised_batch_test, original_shape, h, w)\n",
        "\n",
        "\n"
      ],
      "metadata": {
        "colab": {
          "base_uri": "https://localhost:8080/",
          "height": 819
        },
        "id": "qDi1XXwMPfhH",
        "outputId": "e6e79c64-b34b-4d47-ef59-908407d79cf5"
      },
      "execution_count": 46,
      "outputs": [
        {
          "output_type": "stream",
          "name": "stdout",
          "text": [
            "12/12 [==============================] - 0s 3ms/step\n"
          ]
        },
        {
          "output_type": "display_data",
          "data": {
            "text/plain": [
              "<Figure size 1000x1800 with 5 Axes>"
            ],
            "image/png": "[encoded data removed]"
          },
          "metadata": {}
        }
      ]
    },
    {
      "cell_type": "markdown",
      "source": [
        "If someone knows how to make this look not awful please help me fix the plot"
      ],
      "metadata": {
        "id": "rA7v1S-QBGpE"
      }
    },
    {
      "cell_type": "markdown",
      "source": [
        "# Similarity metrics\n",
        "this is where Emily will add her function (or maybe earlier)\n"
      ],
      "metadata": {
        "id": "PY6YU1W3Bjjg"
      }
    },
    {
      "cell_type": "markdown",
      "source": [
        "We can use this sort of random metric that some use"
      ],
      "metadata": {
        "id": "FHnsPxPaBrV-"
      }
    },
    {
      "cell_type": "code",
      "source": [
        "from math import log10\n",
        "def PSNR(clean, noisy):\n",
        "    mse = np.mean((clean - noisy) ** 2)\n",
        "    if(mse == 0):  # MSE is zero means no noise is present in the signal .\n",
        "                  # Therefore PSNR have no importance.\n",
        "        return 100\n",
        "    max_pixel = np.max(noisy)\n",
        "    psnr = 20 * log10(max_pixel / np.sqrt(mse))\n",
        "    return psnr\n"
      ],
      "metadata": {
        "id": "UrVVF2Lb_whM"
      },
      "execution_count": 48,
      "outputs": []
    },
    {
      "cell_type": "code",
      "source": [
        "clean_images = windows2img(clean_batch_train, original_shape, h, w)\n",
        "noisy_images = windows2img(noisy_batch_train, original_shape, h, w)\n",
        "denoised_images = windows2img(denoised_batch_train, original_shape, h, w)\n",
        "\n",
        "if denoised_images.shape[-1] == 1:\n",
        "  denoised_images = np.squeeze(denoised_images, axis=-1)\n",
        "\n",
        "\n",
        "# Calculate PSNR between clean and noisy\n",
        "psnr_clean_noisy = PSNR(clean_images, noisy_images)\n",
        "print(\"PSNR between clean and noisy:\", psnr_clean_noisy)\n",
        "\n",
        "# Calculate PSNR between clean and denoised\n",
        "psnr_clean_denoised = PSNR(clean_images, denoised_images)\n",
        "print(\"PSNR between clean and denoised:\", psnr_clean_denoised)"
      ],
      "metadata": {
        "colab": {
          "base_uri": "https://localhost:8080/"
        },
        "id": "Cn1Pzt5-BqlU",
        "outputId": "4ec0f45d-348b-4581-db65-ce51a254211b"
      },
      "execution_count": 51,
      "outputs": [
        {
          "output_type": "stream",
          "name": "stdout",
          "text": [
            "PSNR between clean and noisy: 22.79391965376655\n",
            "PSNR between clean and denoised: 1.5398975459098367\n"
          ]
        }
      ]
    },
    {
      "cell_type": "markdown",
      "source": [
        "Nice we at least have verification that its doing something!"
      ],
      "metadata": {
        "id": "KOuK-nmRDMTd"
      }
    },
    {
      "cell_type": "code",
      "source": [],
      "metadata": {
        "id": "iI6tNzOfC6rM"
      },
      "execution_count": null,
      "outputs": []
    }
  ],
  "metadata": {
    "accelerator": "GPU",
    "colab": {
      "provenance": [],
      "gpuType": "T4",
      "history_visible": true,
      "include_colab_link": true
    },
    "kernelspec": {
      "display_name": "Python 3",
      "name": "python3"
    },
    "language_info": {
      "codemirror_mode": {
        "name": "ipython",
        "version": 3
      },
      "file_extension": ".py",
      "mimetype": "text/x-python",
      "name": "python",
      "nbconvert_exporter": "python",
      "pygments_lexer": "ipython3",
      "version": "3.9.17"
    }
  },
  "nbformat": 4,
  "nbformat_minor": 0
}