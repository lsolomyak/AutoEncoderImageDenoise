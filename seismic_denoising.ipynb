{
  "cells": [
    {
      "cell_type": "markdown",
      "metadata": {
        "id": "view-in-github",
        "colab_type": "text"
      },
      "source": [
        "<a href=\"https://colab.research.google.com/github/lsolomyak/AutoEncoderImageDenoise/blob/master/seismic_denoising.ipynb\" target=\"_parent\"><img src=\"https://colab.research.google.com/assets/colab-badge.svg\" alt=\"Open In Colab\"/></a>"
      ]
    },
    {
      "cell_type": "markdown",
      "metadata": {
        "id": "JyMv72RQn20N"
      },
      "source": [
        "# Denoising pipeline"
      ]
    },
    {
      "cell_type": "code",
      "execution_count": null,
      "metadata": {
        "colab": {
          "base_uri": "https://localhost:8080/"
        },
        "id": "NF52syNGoA9o",
        "outputId": "f2da1601-d877-4f37-b5ae-f90de610dc79"
      },
      "outputs": [
        {
          "output_type": "stream",
          "name": "stdout",
          "text": [
            "Drive already mounted at /content/drive; to attempt to forcibly remount, call drive.mount(\"/content/drive\", force_remount=True).\n"
          ]
        }
      ],
      "source": [
        "from google.colab import drive\n",
        "drive.mount('/content/drive')"
      ]
    },
    {
      "cell_type": "code",
      "source": [
        "!ls \"/content/drive/My Drive/Team CGG/Data/synth_data/data_input/train\"\n"
      ],
      "metadata": {
        "colab": {
          "base_uri": "https://localhost:8080/"
        },
        "id": "lfgofTddxe0V",
        "outputId": "8b70f7f7-083b-42b4-f749-ba47b16a5883"
      },
      "execution_count": 10,
      "outputs": [
        {
          "output_type": "stream",
          "name": "stdout",
          "text": [
            "'CGG docs'   Data   Documents   Meetings   Presentations  'Team Charter.gdoc'\n"
          ]
        }
      ]
    },
    {
      "cell_type": "markdown",
      "metadata": {
        "id": "T78QqgwGn20c"
      },
      "source": [
        "### Introduction\n",
        "\n",
        ">**note** we assume you have run through segy_import_npy_output and have the necessary npy files loaded and ready to go\n",
        "\n",
        "In seismic data, a trace represents the recorded seismic energy as it travels through the Earth and is detected by a receiver. It's a continuous time series of amplitude values that reflect the subsurface geological structure. In the given code, the trace data is extracted from a SEGY file, which is a standard format for storing seismic data, and then plotted to visualize the waveform. This can provide insights into the properties and composition of underground layers, such as rock formations and potential hydrocarbon reservoirs.\n",
        "\n"
      ]
    },
    {
      "cell_type": "markdown",
      "metadata": {
        "id": "d1cqzsMcn20g"
      },
      "source": [
        "the code has read a single 2D slice from the 3D SEGY file, corresponding to a specific inline. This 2D slice can be thought of as an \"image\" of the subsurface along that inline, with the horizontal axis representing crosslines and the vertical axis representing time or depth."
      ]
    },
    {
      "cell_type": "code",
      "execution_count": 13,
      "metadata": {
        "id": "ixTKgANUn20i"
      },
      "outputs": [],
      "source": [
        "import sys\n",
        "sys.path.append('../scripts')\n",
        "\n",
        "import pandas as pd\n",
        "import numpy as np\n",
        "import matplotlib.pyplot as plt\n",
        "\n",
        "from sklearn.preprocessing import MinMaxScaler,StandardScaler\n",
        "from sklearn.model_selection import train_test_split\n",
        "from tensorflow import reduce_mean\n",
        "from tensorflow.image import ssim\n",
        "from tensorflow.keras.callbacks import EarlyStopping\n",
        "from tensorflow.keras.optimizers import Adam,SGD\n",
        "import tensorflow as tf\n",
        "import random\n",
        "import gc\n",
        "#from patchify import patchify, unpatchify"
      ]
    },
    {
      "cell_type": "code",
      "execution_count": null,
      "metadata": {
        "id": "PLminGctL3UZ"
      },
      "outputs": [],
      "source": [
        "# double check the shape of the images\n",
        "\n",
        "!ls drive/"
      ]
    },
    {
      "cell_type": "markdown",
      "metadata": {
        "id": "Sft9nnPln20j"
      },
      "source": [
        "The problem we have here is that our images are 501 x 3000 which are terrible numbers to work with- so we pad it by 504 before resizing for windows of 32x70-(those windows are arbitrary but hopefully allow for a kernel of 6x7)"
      ]
    },
    {
      "cell_type": "markdown",
      "metadata": {
        "id": "l6K0mdw3n20k"
      },
      "source": [
        "- **Padding Function:**\n",
        "  \n",
        ">  -Probably wortwhile reading this on why padding is important https://www.geeksforgeeks.org/cnn-introduction-to-padding/#:~:text=padding%20is%20a%20technique%20used,input%20feature%20map%20before%20convolution.\n",
        "  - This function pads an image to make its dimensions divisible by the window size.\n",
        "  - Padding is added at the bottom and right edges of the image.\n",
        "\n",
        "note- we save it as float32 which is easier for the cpu\n",
        "\n",
        "- **Image to Windows Conversion Function:**\n",
        "  - This function takes an image and divides it into non-overlapping windows of size \\( h \\times w \\).\n",
        "  - It uses the `pad_image` function to ensure that the dimensions are divisible by the window size.\n"
      ]
    },
    {
      "cell_type": "code",
      "execution_count": 11,
      "metadata": {
        "id": "XjccFNXRn20m"
      },
      "outputs": [],
      "source": [
        "def resize_image(image):\n",
        "    # add 72 to x axis and 11 to y axis\n",
        "    x_addition = np.zeros((72, 501))\n",
        "    y_addition = np.zeros((3072, 11))\n",
        "    image = np.concatenate((image, x_addition), axis=0)\n",
        "    image = np.concatenate((image, y_addition), axis=1)\n",
        " #   print(image.shape)\n",
        "    return image\n",
        "\n",
        "\n",
        "\n",
        "def img2windows(image, h, w):\n",
        "    cropped_image = resize_image(image)\n",
        "    return [cropped_image[i:i+h, j:j+w] for i in range(0, cropped_image.shape[0], h) for j in range(0, cropped_image.shape[1], w)]\n",
        "\n",
        "def data_generator(folder_path, h, w, batch_size):\n",
        "    clean_folder = [os.path.join(folder_path, f) for f in os.listdir(folder_path) if 'clean' in f][0]\n",
        "    noisy_folder = [os.path.join(folder_path, f) for f in os.listdir(folder_path) if 'noisy' in f][0]\n",
        "    clean_file_names = [f for f in os.listdir(clean_folder) if f.endswith('.npy')]\n",
        "    random.seed(42)\n",
        "    random.shuffle(clean_file_names)\n",
        "\n",
        "    while True:\n",
        "        for start_idx in range(0, len(clean_file_names), batch_size):\n",
        "            end_idx = min(start_idx + batch_size, len(clean_file_names))\n",
        "            batch_files = clean_file_names[start_idx:end_idx]\n",
        "\n",
        "            clean_windows = []\n",
        "            noisy_windows = []\n",
        "\n",
        "            for clean_file in batch_files:\n",
        "                clean_image = np.load(os.path.join(clean_folder, clean_file)).astype(np.float32)\n",
        "                noisy_image = np.load(os.path.join(noisy_folder, clean_file)).astype(np.float32)  # Assuming the same filename exists in noisy folder\n",
        "\n",
        "                clean_windows.extend(img2windows(clean_image, h, w))\n",
        "                noisy_windows.extend(img2windows(noisy_image, h, w))\n",
        "\n",
        "            clean_windows = np.array(clean_windows)\n",
        "            noisy_windows = np.array(noisy_windows)\n",
        "            print(\"Batch shape:\", clean_windows.shape)  # Add this line\n",
        "            yield (clean_windows, noisy_windows)\n",
        "\n",
        "        # Force garbage collection\n",
        "        gc.collect()\n"
      ]
    },
    {
      "cell_type": "markdown",
      "metadata": {
        "id": "JWRh7TM3n20o"
      },
      "source": [
        "- **Data Generator Function:**\n",
        "  - This function generates batches of clean and noisy window pairs from the given folder path.\n"
      ]
    },
    {
      "cell_type": "code",
      "execution_count": null,
      "metadata": {
        "id": "4VtBOzcNn20p"
      },
      "outputs": [],
      "source": [
        "def data_generator(folder_path, h, w, batch_size):\n",
        "    clean_folder = [os.path.join(folder_path, f) for f in os.listdir(folder_path) if 'clean' in f][0]\n",
        "    noisy_folder = [os.path.join(folder_path, f) for f in os.listdir(folder_path) if 'noisy' in f][0]\n",
        "\n",
        "    clean_file_names = [f for f in os.listdir(clean_folder) if f.endswith('.npy')]\n",
        "    print(clean_file_names)\n",
        "    random.seed(41)\n",
        "    random.shuffle(clean_file_names)\n",
        "\n",
        "\n",
        "\n",
        "    while True:\n",
        "        for start_idx in range(0, len(clean_file_names), batch_size):\n",
        "            end_idx = min(start_idx + batch_size, len(clean_file_names))\n",
        "            batch_files = clean_file_names[start_idx:end_idx]\n",
        "\n",
        "            clean_windows = []\n",
        "            noisy_windows = []\n",
        "\n",
        "            for clean_file in batch_files:\n",
        "                clean_image = np.load(os.path.join(clean_folder, clean_file)).astype(np.float32)\n",
        "                noisy_image = np.load(os.path.join(noisy_folder, clean_file)).astype(np.float32)  # Assuming the same filename exists in noisy folder\n",
        "\n",
        "                clean_windows.extend(img2windows(clean_image, h, w))\n",
        "                noisy_windows.extend(img2windows(noisy_image, h, w))\n",
        "\n",
        "            clean_windows = np.array(clean_windows)\n",
        "            noisy_windows = np.array(noisy_windows)\n",
        "            yield (clean_windows, noisy_windows)\n",
        "\n",
        "        # Force garbage collection\n",
        "        gc.collect()\n",
        "\n",
        "\n"
      ]
    },
    {
      "cell_type": "markdown",
      "metadata": {
        "id": "eWEXD2DGn20r"
      },
      "source": [
        "### visualizing the windows\n",
        "\n",
        "its quite nice to see side by side how the noisy and clean images look"
      ]
    },
    {
      "cell_type": "code",
      "execution_count": 20,
      "metadata": {
        "colab": {
          "base_uri": "https://localhost:8080/",
          "height": 904
        },
        "id": "4KYZ8TiOn20r",
        "outputId": "21f64ea7-150a-446a-ee19-bd3ff1fda491"
      },
      "outputs": [
        {
          "output_type": "stream",
          "name": "stdout",
          "text": [
            "/content\n",
            "(1536, 64, 64)\n"
          ]
        },
        {
          "output_type": "display_data",
          "data": {
            "text/plain": [
              "<Figure size 1500x1000 with 4 Axes>"
            ],
            "image/png": "[encoded data removed]"
          },
          "metadata": {}
        }
      ],
      "source": [
        "import os\n",
        "\n",
        "\n",
        "def visualize_windows(clean_windows, noisy_windows, num_rows=2, num_cols=2):\n",
        "    fig, axs = plt.subplots(num_rows, num_cols, figsize=(15, 10))\n",
        "\n",
        "    for row in range(num_rows):\n",
        "        for col in range(num_cols):\n",
        "            idx = random.randint(0, len(clean_windows) - 1)\n",
        "            clean_window = clean_windows[idx]\n",
        "            noisy_window = noisy_windows[idx]\n",
        "\n",
        "            axs[row, col].imshow(np.hstack((clean_window, noisy_window)), cmap='gray', aspect='auto')\n",
        "            axs[row, col].set_title('Left: Clean | Right: Noisy')\n",
        "            axs[row, col].axis('off')\n",
        "\n",
        "    plt.tight_layout()\n",
        "    plt.show()\n",
        "print(os.getcwd())\n",
        "h = 64\n",
        "w = 64\n",
        "batch_size = 4\n",
        "#folder_path_train = 'drive/MyDrive/S2DS/Team CGG/Data/synth_data/data_input/train'\n",
        "#folder_path_test =  'drive/MyDrive/S2DS/Team CGG/Data/synth_data/data_input/test'\n",
        "folder_path_test=os.getcwd()\n",
        "folder_path_train=os.getcwd()\n",
        "\n",
        "train_generator = data_generator(folder_path_train, h, w, batch_size)\n",
        "test_generator = data_generator(folder_path_test, h, w, batch_size)\n",
        "\n",
        "clean_batch_train, noisy_batch_train = next(train_generator)\n",
        "clean_batch_test, noisy_batch_test = next(test_generator)\n",
        "\n",
        "print(clean_batch_test.shape)\n",
        "\n",
        "visualize_windows(clean_batch_train, noisy_batch_train)\n"
      ]
    },
    {
      "cell_type": "markdown",
      "metadata": {
        "id": "IyyzEAten20s"
      },
      "source": [
        "### Choosing an autoencoder model"
      ]
    },
    {
      "cell_type": "code",
      "execution_count": 22,
      "metadata": {
        "colab": {
          "base_uri": "https://localhost:8080/"
        },
        "id": "qlvEw2nTn20t",
        "outputId": "7b4b665d-7576-4212-8f0d-aafff380ce0e"
      },
      "outputs": [
        {
          "output_type": "stream",
          "name": "stdout",
          "text": [
            "Model: \"model_1\"\n",
            "_________________________________________________________________\n",
            " Layer (type)                Output Shape              Param #   \n",
            "=================================================================\n",
            " input_2 (InputLayer)        [(None, 64, 64, 1)]       0         \n",
            "                                                                 \n",
            " conv2d_3 (Conv2D)           (None, 64, 64, 16)        160       \n",
            "                                                                 \n",
            " max_pooling2d_2 (MaxPooling  (None, 32, 32, 16)       0         \n",
            " 2D)                                                             \n",
            "                                                                 \n",
            " conv2d_4 (Conv2D)           (None, 32, 32, 32)        4640      \n",
            "                                                                 \n",
            " max_pooling2d_3 (MaxPooling  (None, 16, 16, 32)       0         \n",
            " 2D)                                                             \n",
            "                                                                 \n",
            " conv2d_transpose_2 (Conv2DT  (None, 32, 32, 32)       9248      \n",
            " ranspose)                                                       \n",
            "                                                                 \n",
            " conv2d_transpose_3 (Conv2DT  (None, 64, 64, 16)       4624      \n",
            " ranspose)                                                       \n",
            "                                                                 \n",
            " conv2d_5 (Conv2D)           (None, 64, 64, 1)         145       \n",
            "                                                                 \n",
            "=================================================================\n",
            "Total params: 18,817\n",
            "Trainable params: 18,817\n",
            "Non-trainable params: 0\n",
            "_________________________________________________________________\n"
          ]
        }
      ],
      "source": [
        "# Importing necessary libraries\n",
        "from tensorflow.keras import layers, models\n",
        "\n",
        "def simple_autoencoder(input_shape):\n",
        "    inputs = tf.keras.Input(shape=input_shape)\n",
        "\n",
        "    # Encoding Path\n",
        "    x = layers.Conv2D(16, (3, 3), activation='elu', padding='same')(inputs)\n",
        "    x = layers.MaxPooling2D((2, 2), padding='same')(x)\n",
        "    x = layers.Conv2D(32, (3, 3), activation='elu', padding='same')(x)\n",
        "    x = layers.MaxPooling2D((2, 2), padding='same')(x)\n",
        "\n",
        "    # Decoding Path\n",
        "    x = layers.Conv2DTranspose(32, (3, 3), strides=(2, 2), activation='relu', padding='same')(x)\n",
        "    x = layers.Conv2DTranspose(16, (3, 3), strides=(2, 2), activation='relu', padding='same')(x)\n",
        "\n",
        "    # Output layer with the original shape\n",
        "    outputs = layers.Conv2D(input_shape[-1], (3, 3), activation='sigmoid', padding='same')(x)\n",
        "\n",
        "    return models.Model(inputs, outputs)\n",
        "\n",
        "input_shape = (64, 64, 1)\n",
        "simple_autoencoder_model = simple_autoencoder(input_shape)\n",
        "simple_autoencoder_model.summary()\n",
        "\n",
        "\n"
      ]
    },
    {
      "cell_type": "code",
      "execution_count": null,
      "metadata": {
        "id": "GHdruzfan20u"
      },
      "outputs": [],
      "source": [
        "\n",
        "#Unet_scl = autoencoder('Unet_v3',kernel=(6,7),input_size=(32,70,1))\n",
        "simple_autoencoder_model.compile(optimizer='adam', loss='mse', run_eagerly=True)\n",
        "# Creating callback for training\n",
        "from tensorflow.keras.callbacks import EarlyStopping\n",
        "\n",
        "callback = EarlyStopping(\n",
        "    monitor=\"val_loss\",\n",
        "    min_delta=0.0005,\n",
        "    patience=20,\n",
        "    verbose=0,\n",
        "    mode=\"auto\",\n",
        "    baseline=None,\n",
        "    restore_best_weights=True,\n",
        ")"
      ]
    },
    {
      "cell_type": "markdown",
      "metadata": {
        "id": "9IB0BNOTn20w"
      },
      "source": [
        "note this data generator is good specifically if we want to use a binary classifier approach"
      ]
    },
    {
      "cell_type": "code",
      "execution_count": null,
      "metadata": {
        "colab": {
          "background_save": true,
          "base_uri": "https://localhost:8080/"
        },
        "id": "BeE4v4thn20w",
        "outputId": "b9f34e93-3ac6-4489-d83c-6cb08022f90a"
      },
      "outputs": [
        {
          "name": "stdout",
          "output_type": "stream",
          "text": [
            "Epoch 1/5\n"
          ]
        },
        {
          "name": "stderr",
          "output_type": "stream",
          "text": [
            "Process Keras_worker_ForkPoolWorker-8:\n",
            "Traceback (most recent call last):\n",
            "  File \"/usr/lib/python3.10/multiprocessing/process.py\", line 314, in _bootstrap\n",
            "    self.run()\n",
            "  File \"/usr/lib/python3.10/multiprocessing/process.py\", line 108, in run\n",
            "    self._target(*self._args, **self._kwargs)\n",
            "  File \"/usr/lib/python3.10/multiprocessing/pool.py\", line 131, in worker\n",
            "    put((job, i, result))\n",
            "  File \"/usr/lib/python3.10/multiprocessing/queues.py\", line 377, in put\n",
            "    self._writer.send_bytes(obj)\n",
            "  File \"/usr/lib/python3.10/multiprocessing/connection.py\", line 200, in send_bytes\n",
            "    self._send_bytes(m[offset:offset + size])\n",
            "  File \"/usr/lib/python3.10/multiprocessing/connection.py\", line 405, in _send_bytes\n",
            "    self._send(buf)\n",
            "  File \"/usr/lib/python3.10/multiprocessing/connection.py\", line 368, in _send\n",
            "    n = write(self._handle, buf)\n",
            "KeyboardInterrupt\n",
            "Exception in thread Thread-46 (_handle_results):\n",
            "Traceback (most recent call last):\n",
            "  File \"/usr/lib/python3.10/threading.py\", line 1016, in _bootstrap_inner\n",
            "    self.run()\n",
            "  File \"/usr/lib/python3.10/threading.py\", line 953, in run\n",
            "    self._target(*self._args, **self._kwargs)\n",
            "  File \"/usr/lib/python3.10/multiprocessing/pool.py\", line 579, in _handle_results\n",
            "    task = get()\n",
            "  File \"/usr/lib/python3.10/multiprocessing/connection.py\", line 251, in recv\n",
            "    return _ForkingPickler.loads(buf.getbuffer())\n",
            "_pickle.UnpicklingError: invalid load key, '\\xc0'.\n",
            "Process Keras_worker_ForkPoolWorker-15:\n",
            "Process Keras_worker_ForkPoolWorker-16:\n",
            "Process Keras_worker_ForkPoolWorker-12:\n",
            "Traceback (most recent call last):\n",
            "Process Keras_worker_ForkPoolWorker-13:\n",
            "Process Keras_worker_ForkPoolWorker-9:\n",
            "Process Keras_worker_ForkPoolWorker-10:\n",
            "Process Keras_worker_ForkPoolWorker-14:\n",
            "Process Keras_worker_ForkPoolWorker-11:\n",
            "Traceback (most recent call last):\n",
            "  File \"/usr/lib/python3.10/multiprocessing/process.py\", line 108, in run\n",
            "    self._target(*self._args, **self._kwargs)\n",
            "Traceback (most recent call last):\n",
            "  File \"/usr/lib/python3.10/multiprocessing/process.py\", line 314, in _bootstrap\n",
            "    self.run()\n",
            "Traceback (most recent call last):\n",
            "Traceback (most recent call last):\n",
            "Traceback (most recent call last):\n",
            "  File \"/usr/lib/python3.10/multiprocessing/process.py\", line 314, in _bootstrap\n",
            "    self.run()\n",
            "Traceback (most recent call last):\n",
            "  File \"/usr/lib/python3.10/multiprocessing/process.py\", line 314, in _bootstrap\n",
            "    self.run()\n",
            "  File \"/usr/lib/python3.10/multiprocessing/process.py\", line 314, in _bootstrap\n",
            "    self.run()\n",
            "  File \"/usr/lib/python3.10/multiprocessing/process.py\", line 314, in _bootstrap\n",
            "    self.run()\n",
            "  File \"/usr/lib/python3.10/multiprocessing/pool.py\", line 114, in worker\n",
            "    task = get()\n",
            "Traceback (most recent call last):\n",
            "  File \"/usr/lib/python3.10/multiprocessing/process.py\", line 314, in _bootstrap\n",
            "    self.run()\n",
            "  File \"/usr/lib/python3.10/multiprocessing/process.py\", line 314, in _bootstrap\n",
            "    self.run()\n",
            "  File \"/usr/lib/python3.10/multiprocessing/process.py\", line 108, in run\n",
            "    self._target(*self._args, **self._kwargs)\n",
            "  File \"/usr/lib/python3.10/multiprocessing/process.py\", line 108, in run\n",
            "    self._target(*self._args, **self._kwargs)\n",
            "  File \"/usr/lib/python3.10/multiprocessing/process.py\", line 108, in run\n",
            "    self._target(*self._args, **self._kwargs)\n",
            "  File \"/usr/lib/python3.10/multiprocessing/process.py\", line 314, in _bootstrap\n",
            "    self.run()\n",
            "  File \"/usr/lib/python3.10/multiprocessing/process.py\", line 108, in run\n",
            "    self._target(*self._args, **self._kwargs)\n",
            "  File \"/usr/lib/python3.10/multiprocessing/process.py\", line 108, in run\n",
            "    self._target(*self._args, **self._kwargs)\n",
            "  File \"/usr/lib/python3.10/multiprocessing/process.py\", line 108, in run\n",
            "    self._target(*self._args, **self._kwargs)\n",
            "  File \"/usr/lib/python3.10/multiprocessing/pool.py\", line 131, in worker\n",
            "    put((job, i, result))\n",
            "  File \"/usr/lib/python3.10/multiprocessing/pool.py\", line 114, in worker\n",
            "    task = get()\n",
            "  File \"/usr/lib/python3.10/multiprocessing/process.py\", line 108, in run\n",
            "    self._target(*self._args, **self._kwargs)\n",
            "  File \"/usr/lib/python3.10/multiprocessing/pool.py\", line 114, in worker\n",
            "    task = get()\n",
            "  File \"/usr/lib/python3.10/multiprocessing/queues.py\", line 365, in get\n",
            "    res = self._reader.recv_bytes()\n",
            "  File \"/usr/lib/python3.10/multiprocessing/pool.py\", line 114, in worker\n",
            "    task = get()\n",
            "  File \"/usr/lib/python3.10/multiprocessing/queues.py\", line 365, in get\n",
            "    res = self._reader.recv_bytes()\n",
            "  File \"/usr/lib/python3.10/multiprocessing/pool.py\", line 114, in worker\n",
            "    task = get()\n",
            "  File \"/usr/lib/python3.10/multiprocessing/connection.py\", line 216, in recv_bytes\n",
            "    buf = self._recv_bytes(maxlength)\n",
            "  File \"/usr/lib/python3.10/multiprocessing/queues.py\", line 377, in put\n",
            "    self._writer.send_bytes(obj)\n",
            "  File \"/usr/lib/python3.10/multiprocessing/queues.py\", line 365, in get\n",
            "    res = self._reader.recv_bytes()\n",
            "  File \"/usr/lib/python3.10/multiprocessing/pool.py\", line 114, in worker\n",
            "    task = get()\n",
            "  File \"/usr/lib/python3.10/multiprocessing/pool.py\", line 114, in worker\n",
            "    task = get()\n",
            "  File \"/usr/lib/python3.10/multiprocessing/queues.py\", line 365, in get\n",
            "    res = self._reader.recv_bytes()\n",
            "  File \"/usr/lib/python3.10/multiprocessing/connection.py\", line 414, in _recv_bytes\n",
            "    buf = self._recv(4)\n",
            "  File \"/usr/lib/python3.10/multiprocessing/connection.py\", line 216, in recv_bytes\n",
            "    buf = self._recv_bytes(maxlength)\n",
            "  File \"/usr/lib/python3.10/multiprocessing/queues.py\", line 365, in get\n",
            "    res = self._reader.recv_bytes()\n",
            "  File \"/usr/lib/python3.10/multiprocessing/connection.py\", line 216, in recv_bytes\n",
            "    buf = self._recv_bytes(maxlength)\n",
            "  File \"/usr/lib/python3.10/multiprocessing/queues.py\", line 365, in get\n",
            "    res = self._reader.recv_bytes()\n",
            "  File \"/usr/lib/python3.10/multiprocessing/connection.py\", line 200, in send_bytes\n",
            "    self._send_bytes(m[offset:offset + size])\n",
            "  File \"/usr/lib/python3.10/multiprocessing/connection.py\", line 216, in recv_bytes\n",
            "    buf = self._recv_bytes(maxlength)\n",
            "  File \"/usr/lib/python3.10/multiprocessing/connection.py\", line 379, in _recv\n",
            "    chunk = read(handle, remaining)\n",
            "  File \"/usr/lib/python3.10/multiprocessing/queues.py\", line 365, in get\n",
            "    res = self._reader.recv_bytes()\n",
            "  File \"/usr/lib/python3.10/multiprocessing/connection.py\", line 414, in _recv_bytes\n",
            "    buf = self._recv(4)\n",
            "  File \"/usr/lib/python3.10/multiprocessing/connection.py\", line 216, in recv_bytes\n",
            "    buf = self._recv_bytes(maxlength)\n",
            "  File \"/usr/lib/python3.10/multiprocessing/connection.py\", line 405, in _send_bytes\n",
            "    self._send(buf)\n",
            "  File \"/usr/lib/python3.10/multiprocessing/connection.py\", line 216, in recv_bytes\n",
            "    buf = self._recv_bytes(maxlength)\n",
            "  File \"/usr/lib/python3.10/multiprocessing/connection.py\", line 414, in _recv_bytes\n",
            "    buf = self._recv(4)\n",
            "  File \"/usr/lib/python3.10/multiprocessing/connection.py\", line 216, in recv_bytes\n",
            "    buf = self._recv_bytes(maxlength)\n",
            "  File \"/usr/lib/python3.10/multiprocessing/connection.py\", line 414, in _recv_bytes\n",
            "    buf = self._recv(4)\n",
            "  File \"/usr/lib/python3.10/multiprocessing/connection.py\", line 379, in _recv\n",
            "    chunk = read(handle, remaining)\n",
            "KeyboardInterrupt\n",
            "  File \"/usr/lib/python3.10/multiprocessing/connection.py\", line 414, in _recv_bytes\n",
            "    buf = self._recv(4)\n",
            "  File \"/usr/lib/python3.10/multiprocessing/connection.py\", line 368, in _send\n",
            "    n = write(self._handle, buf)\n",
            "  File \"/usr/lib/python3.10/multiprocessing/connection.py\", line 414, in _recv_bytes\n",
            "    buf = self._recv(4)\n",
            "  File \"/usr/lib/python3.10/multiprocessing/connection.py\", line 379, in _recv\n",
            "    chunk = read(handle, remaining)\n",
            "  File \"/usr/lib/python3.10/multiprocessing/connection.py\", line 414, in _recv_bytes\n",
            "    buf = self._recv(4)\n",
            "KeyboardInterrupt\n",
            "  File \"/usr/lib/python3.10/multiprocessing/connection.py\", line 379, in _recv\n",
            "    chunk = read(handle, remaining)\n",
            "  File \"/usr/lib/python3.10/multiprocessing/connection.py\", line 379, in _recv\n",
            "    chunk = read(handle, remaining)\n",
            "KeyboardInterrupt\n",
            "KeyboardInterrupt\n",
            "KeyboardInterrupt\n",
            "  File \"/usr/lib/python3.10/multiprocessing/connection.py\", line 379, in _recv\n",
            "    chunk = read(handle, remaining)\n",
            "KeyboardInterrupt\n",
            "  File \"/usr/lib/python3.10/multiprocessing/connection.py\", line 379, in _recv\n",
            "    chunk = read(handle, remaining)\n",
            "KeyboardInterrupt\n",
            "KeyboardInterrupt\n",
            "Process Keras_worker_ForkPoolWorker-19:\n",
            "Process Keras_worker_ForkPoolWorker-23:\n",
            "Process Keras_worker_ForkPoolWorker-21:\n",
            "Process Keras_worker_ForkPoolWorker-22:\n",
            "Process Keras_worker_ForkPoolWorker-20:\n",
            "Process Keras_worker_ForkPoolWorker-17:\n",
            "Process Keras_worker_ForkPoolWorker-18:\n",
            "Process Keras_worker_ForkPoolWorker-24:\n",
            "Traceback (most recent call last):\n",
            "Traceback (most recent call last):\n",
            "Traceback (most recent call last):\n",
            "Traceback (most recent call last):\n",
            "Traceback (most recent call last):\n",
            "Traceback (most recent call last):\n",
            "Traceback (most recent call last):\n",
            "Traceback (most recent call last):\n",
            "  File \"/usr/lib/python3.10/multiprocessing/process.py\", line 314, in _bootstrap\n",
            "    self.run()\n",
            "  File \"/usr/lib/python3.10/multiprocessing/process.py\", line 314, in _bootstrap\n",
            "    self.run()\n",
            "  File \"/usr/lib/python3.10/multiprocessing/process.py\", line 314, in _bootstrap\n",
            "    self.run()\n",
            "  File \"/usr/lib/python3.10/multiprocessing/process.py\", line 314, in _bootstrap\n",
            "    self.run()\n",
            "  File \"/usr/lib/python3.10/multiprocessing/process.py\", line 314, in _bootstrap\n",
            "    self.run()\n",
            "  File \"/usr/lib/python3.10/multiprocessing/process.py\", line 314, in _bootstrap\n",
            "    self.run()\n",
            "  File \"/usr/lib/python3.10/multiprocessing/process.py\", line 314, in _bootstrap\n",
            "    self.run()\n",
            "  File \"/usr/lib/python3.10/multiprocessing/process.py\", line 108, in run\n",
            "    self._target(*self._args, **self._kwargs)\n",
            "  File \"/usr/lib/python3.10/multiprocessing/process.py\", line 108, in run\n",
            "    self._target(*self._args, **self._kwargs)\n",
            "  File \"/usr/lib/python3.10/multiprocessing/process.py\", line 108, in run\n",
            "    self._target(*self._args, **self._kwargs)\n",
            "  File \"/usr/lib/python3.10/multiprocessing/pool.py\", line 114, in worker\n",
            "    task = get()\n",
            "  File \"/usr/lib/python3.10/multiprocessing/process.py\", line 108, in run\n",
            "    self._target(*self._args, **self._kwargs)\n",
            "  File \"/usr/lib/python3.10/multiprocessing/pool.py\", line 131, in worker\n",
            "    put((job, i, result))\n",
            "  File \"/usr/lib/python3.10/multiprocessing/pool.py\", line 114, in worker\n",
            "    task = get()\n",
            "  File \"/usr/lib/python3.10/multiprocessing/queues.py\", line 365, in get\n",
            "    res = self._reader.recv_bytes()\n",
            "  File \"/usr/lib/python3.10/multiprocessing/queues.py\", line 377, in put\n",
            "    self._writer.send_bytes(obj)\n",
            "  File \"/usr/lib/python3.10/multiprocessing/queues.py\", line 365, in get\n",
            "    res = self._reader.recv_bytes()\n",
            "  File \"/usr/lib/python3.10/multiprocessing/process.py\", line 108, in run\n",
            "    self._target(*self._args, **self._kwargs)\n",
            "  File \"/usr/lib/python3.10/multiprocessing/process.py\", line 314, in _bootstrap\n",
            "    self.run()\n",
            "  File \"/usr/lib/python3.10/multiprocessing/pool.py\", line 114, in worker\n",
            "    task = get()\n",
            "  File \"/usr/lib/python3.10/multiprocessing/connection.py\", line 216, in recv_bytes\n",
            "    buf = self._recv_bytes(maxlength)\n",
            "  File \"/usr/lib/python3.10/multiprocessing/connection.py\", line 200, in send_bytes\n",
            "    self._send_bytes(m[offset:offset + size])\n",
            "  File \"/usr/lib/python3.10/multiprocessing/connection.py\", line 216, in recv_bytes\n",
            "    buf = self._recv_bytes(maxlength)\n",
            "  File \"/usr/lib/python3.10/multiprocessing/process.py\", line 108, in run\n",
            "    self._target(*self._args, **self._kwargs)\n",
            "  File \"/usr/lib/python3.10/multiprocessing/connection.py\", line 414, in _recv_bytes\n",
            "    buf = self._recv(4)\n",
            "  File \"/usr/lib/python3.10/multiprocessing/connection.py\", line 404, in _send_bytes\n",
            "    self._send(header)\n",
            "  File \"/usr/lib/python3.10/multiprocessing/connection.py\", line 414, in _recv_bytes\n",
            "    buf = self._recv(4)\n",
            "  File \"/usr/lib/python3.10/multiprocessing/queues.py\", line 365, in get\n",
            "    res = self._reader.recv_bytes()\n",
            "  File \"/usr/lib/python3.10/multiprocessing/process.py\", line 108, in run\n",
            "    self._target(*self._args, **self._kwargs)\n",
            "  File \"/usr/lib/python3.10/multiprocessing/connection.py\", line 368, in _send\n",
            "    n = write(self._handle, buf)\n",
            "  File \"/usr/lib/python3.10/multiprocessing/pool.py\", line 114, in worker\n",
            "    task = get()\n",
            "  File \"/usr/lib/python3.10/multiprocessing/connection.py\", line 379, in _recv\n",
            "    chunk = read(handle, remaining)\n",
            "  File \"/usr/lib/python3.10/multiprocessing/process.py\", line 108, in run\n",
            "    self._target(*self._args, **self._kwargs)\n",
            "  File \"/usr/lib/python3.10/multiprocessing/pool.py\", line 114, in worker\n",
            "    task = get()\n",
            "  File \"/usr/lib/python3.10/multiprocessing/connection.py\", line 379, in _recv\n",
            "    chunk = read(handle, remaining)\n",
            "  File \"/usr/lib/python3.10/multiprocessing/connection.py\", line 216, in recv_bytes\n",
            "    buf = self._recv_bytes(maxlength)\n",
            "KeyboardInterrupt\n",
            "  File \"/usr/lib/python3.10/multiprocessing/queues.py\", line 365, in get\n",
            "    res = self._reader.recv_bytes()\n",
            "KeyboardInterrupt\n",
            "  File \"/usr/lib/python3.10/multiprocessing/pool.py\", line 114, in worker\n",
            "    task = get()\n",
            "  File \"/usr/lib/python3.10/multiprocessing/pool.py\", line 114, in worker\n",
            "    task = get()\n",
            "  File \"/usr/lib/python3.10/multiprocessing/queues.py\", line 365, in get\n",
            "    res = self._reader.recv_bytes()\n",
            "KeyboardInterrupt\n",
            "  File \"/usr/lib/python3.10/multiprocessing/queues.py\", line 365, in get\n",
            "    res = self._reader.recv_bytes()\n",
            "  File \"/usr/lib/python3.10/multiprocessing/connection.py\", line 414, in _recv_bytes\n",
            "    buf = self._recv(4)\n",
            "  File \"/usr/lib/python3.10/multiprocessing/connection.py\", line 216, in recv_bytes\n",
            "    buf = self._recv_bytes(maxlength)\n",
            "  File \"/usr/lib/python3.10/multiprocessing/connection.py\", line 216, in recv_bytes\n",
            "    buf = self._recv_bytes(maxlength)\n",
            "  File \"/usr/lib/python3.10/multiprocessing/queues.py\", line 365, in get\n",
            "    res = self._reader.recv_bytes()\n",
            "  File \"/usr/lib/python3.10/multiprocessing/connection.py\", line 414, in _recv_bytes\n",
            "    buf = self._recv(4)\n",
            "  File \"/usr/lib/python3.10/multiprocessing/connection.py\", line 216, in recv_bytes\n",
            "    buf = self._recv_bytes(maxlength)\n",
            "  File \"/usr/lib/python3.10/multiprocessing/connection.py\", line 379, in _recv\n",
            "    chunk = read(handle, remaining)\n",
            "  File \"/usr/lib/python3.10/multiprocessing/connection.py\", line 414, in _recv_bytes\n",
            "    buf = self._recv(4)\n",
            "  File \"/usr/lib/python3.10/multiprocessing/connection.py\", line 414, in _recv_bytes\n",
            "    buf = self._recv(4)\n",
            "  File \"/usr/lib/python3.10/multiprocessing/connection.py\", line 379, in _recv\n",
            "    chunk = read(handle, remaining)\n",
            "  File \"/usr/lib/python3.10/multiprocessing/connection.py\", line 216, in recv_bytes\n",
            "    buf = self._recv_bytes(maxlength)\n",
            "KeyboardInterrupt\n",
            "  File \"/usr/lib/python3.10/multiprocessing/connection.py\", line 379, in _recv\n",
            "    chunk = read(handle, remaining)\n",
            "KeyboardInterrupt\n",
            "  File \"/usr/lib/python3.10/multiprocessing/connection.py\", line 414, in _recv_bytes\n",
            "    buf = self._recv(4)\n",
            "KeyboardInterrupt\n",
            "  File \"/usr/lib/python3.10/multiprocessing/connection.py\", line 379, in _recv\n",
            "    chunk = read(handle, remaining)\n",
            "  File \"/usr/lib/python3.10/multiprocessing/connection.py\", line 379, in _recv\n",
            "    chunk = read(handle, remaining)\n",
            "KeyboardInterrupt\n",
            "KeyboardInterrupt\n",
            "Process Keras_worker_ForkPoolWorker-25:\n",
            "Process Keras_worker_ForkPoolWorker-26:\n",
            "Traceback (most recent call last):\n",
            "Process Keras_worker_ForkPoolWorker-30:\n",
            "Process Keras_worker_ForkPoolWorker-27:\n",
            "  File \"/usr/lib/python3.10/multiprocessing/process.py\", line 314, in _bootstrap\n",
            "    self.run()\n",
            "Process Keras_worker_ForkPoolWorker-28:\n",
            "Process Keras_worker_ForkPoolWorker-32:\n",
            "Process Keras_worker_ForkPoolWorker-31:\n",
            "Process Keras_worker_ForkPoolWorker-29:\n",
            "  File \"/usr/lib/python3.10/multiprocessing/process.py\", line 108, in run\n",
            "    self._target(*self._args, **self._kwargs)\n",
            "Traceback (most recent call last):\n",
            "Traceback (most recent call last):\n",
            "Traceback (most recent call last):\n",
            "Traceback (most recent call last):\n",
            "Traceback (most recent call last):\n",
            "  File \"/usr/lib/python3.10/multiprocessing/pool.py\", line 131, in worker\n",
            "    put((job, i, result))\n",
            "Traceback (most recent call last):\n",
            "  File \"/usr/lib/python3.10/multiprocessing/process.py\", line 314, in _bootstrap\n",
            "    self.run()\n",
            "  File \"/usr/lib/python3.10/multiprocessing/process.py\", line 314, in _bootstrap\n",
            "    self.run()\n",
            "Traceback (most recent call last):\n",
            "  File \"/usr/lib/python3.10/multiprocessing/process.py\", line 314, in _bootstrap\n",
            "    self.run()\n",
            "  File \"/usr/lib/python3.10/multiprocessing/process.py\", line 314, in _bootstrap\n",
            "    self.run()\n",
            "  File \"/usr/lib/python3.10/multiprocessing/process.py\", line 314, in _bootstrap\n",
            "    self.run()\n",
            "  File \"/usr/lib/python3.10/multiprocessing/queues.py\", line 377, in put\n",
            "    self._writer.send_bytes(obj)\n",
            "  File \"/usr/lib/python3.10/multiprocessing/process.py\", line 108, in run\n",
            "    self._target(*self._args, **self._kwargs)\n",
            "  File \"/usr/lib/python3.10/multiprocessing/process.py\", line 108, in run\n",
            "    self._target(*self._args, **self._kwargs)\n",
            "  File \"/usr/lib/python3.10/multiprocessing/process.py\", line 108, in run\n",
            "    self._target(*self._args, **self._kwargs)\n",
            "  File \"/usr/lib/python3.10/multiprocessing/process.py\", line 108, in run\n",
            "    self._target(*self._args, **self._kwargs)\n",
            "  File \"/usr/lib/python3.10/multiprocessing/process.py\", line 314, in _bootstrap\n",
            "    self.run()\n",
            "  File \"/usr/lib/python3.10/multiprocessing/process.py\", line 314, in _bootstrap\n",
            "    self.run()\n",
            "  File \"/usr/lib/python3.10/multiprocessing/connection.py\", line 200, in send_bytes\n",
            "    self._send_bytes(m[offset:offset + size])\n",
            "  File \"/usr/lib/python3.10/multiprocessing/process.py\", line 108, in run\n",
            "    self._target(*self._args, **self._kwargs)\n",
            "  File \"/usr/lib/python3.10/multiprocessing/pool.py\", line 114, in worker\n",
            "    task = get()\n",
            "  File \"/usr/lib/python3.10/multiprocessing/pool.py\", line 114, in worker\n",
            "    task = get()\n",
            "  File \"/usr/lib/python3.10/multiprocessing/pool.py\", line 114, in worker\n",
            "    task = get()\n",
            "  File \"/usr/lib/python3.10/multiprocessing/connection.py\", line 404, in _send_bytes\n",
            "    self._send(header)\n",
            "  File \"/usr/lib/python3.10/multiprocessing/pool.py\", line 114, in worker\n",
            "    task = get()\n",
            "  File \"/usr/lib/python3.10/multiprocessing/pool.py\", line 114, in worker\n",
            "    task = get()\n",
            "  File \"/usr/lib/python3.10/multiprocessing/queues.py\", line 365, in get\n",
            "    res = self._reader.recv_bytes()\n",
            "  File \"/usr/lib/python3.10/multiprocessing/queues.py\", line 365, in get\n",
            "    res = self._reader.recv_bytes()\n",
            "  File \"/usr/lib/python3.10/multiprocessing/queues.py\", line 365, in get\n",
            "    res = self._reader.recv_bytes()\n",
            "  File \"/usr/lib/python3.10/multiprocessing/process.py\", line 108, in run\n",
            "    self._target(*self._args, **self._kwargs)\n",
            "  File \"/usr/lib/python3.10/multiprocessing/process.py\", line 108, in run\n",
            "    self._target(*self._args, **self._kwargs)\n",
            "  File \"/usr/lib/python3.10/multiprocessing/queues.py\", line 365, in get\n",
            "    res = self._reader.recv_bytes()\n",
            "  File \"/usr/lib/python3.10/multiprocessing/connection.py\", line 368, in _send\n",
            "    n = write(self._handle, buf)\n",
            "  File \"/usr/lib/python3.10/multiprocessing/queues.py\", line 365, in get\n",
            "    res = self._reader.recv_bytes()\n",
            "  File \"/usr/lib/python3.10/multiprocessing/connection.py\", line 216, in recv_bytes\n",
            "    buf = self._recv_bytes(maxlength)\n",
            "  File \"/usr/lib/python3.10/multiprocessing/connection.py\", line 216, in recv_bytes\n",
            "    buf = self._recv_bytes(maxlength)\n",
            "  File \"/usr/lib/python3.10/multiprocessing/connection.py\", line 216, in recv_bytes\n",
            "    buf = self._recv_bytes(maxlength)\n",
            "KeyboardInterrupt\n",
            "  File \"/usr/lib/python3.10/multiprocessing/connection.py\", line 216, in recv_bytes\n",
            "    buf = self._recv_bytes(maxlength)\n",
            "  File \"/usr/lib/python3.10/multiprocessing/connection.py\", line 216, in recv_bytes\n",
            "    buf = self._recv_bytes(maxlength)\n",
            "  File \"/usr/lib/python3.10/multiprocessing/pool.py\", line 114, in worker\n",
            "    task = get()\n",
            "  File \"/usr/lib/python3.10/multiprocessing/pool.py\", line 114, in worker\n",
            "    task = get()\n",
            "  File \"/usr/lib/python3.10/multiprocessing/connection.py\", line 414, in _recv_bytes\n",
            "    buf = self._recv(4)\n",
            "  File \"/usr/lib/python3.10/multiprocessing/queues.py\", line 365, in get\n",
            "    res = self._reader.recv_bytes()\n",
            "  File \"/usr/lib/python3.10/multiprocessing/connection.py\", line 414, in _recv_bytes\n",
            "    buf = self._recv(4)\n",
            "  File \"/usr/lib/python3.10/multiprocessing/connection.py\", line 414, in _recv_bytes\n",
            "    buf = self._recv(4)\n",
            "  File \"/usr/lib/python3.10/multiprocessing/queues.py\", line 365, in get\n",
            "    res = self._reader.recv_bytes()\n",
            "  File \"/usr/lib/python3.10/multiprocessing/connection.py\", line 414, in _recv_bytes\n",
            "    buf = self._recv(4)\n",
            "  File \"/usr/lib/python3.10/multiprocessing/connection.py\", line 379, in _recv\n",
            "    chunk = read(handle, remaining)\n",
            "  File \"/usr/lib/python3.10/multiprocessing/connection.py\", line 216, in recv_bytes\n",
            "    buf = self._recv_bytes(maxlength)\n",
            "  File \"/usr/lib/python3.10/multiprocessing/connection.py\", line 414, in _recv_bytes\n",
            "    buf = self._recv(4)\n",
            "  File \"/usr/lib/python3.10/multiprocessing/connection.py\", line 216, in recv_bytes\n",
            "    buf = self._recv_bytes(maxlength)\n",
            "  File \"/usr/lib/python3.10/multiprocessing/connection.py\", line 379, in _recv\n",
            "    chunk = read(handle, remaining)\n",
            "  File \"/usr/lib/python3.10/multiprocessing/connection.py\", line 379, in _recv\n",
            "    chunk = read(handle, remaining)\n",
            "KeyboardInterrupt\n",
            "  File \"/usr/lib/python3.10/multiprocessing/connection.py\", line 414, in _recv_bytes\n",
            "    buf = self._recv(4)\n",
            "  File \"/usr/lib/python3.10/multiprocessing/connection.py\", line 379, in _recv\n",
            "    chunk = read(handle, remaining)\n",
            "  File \"/usr/lib/python3.10/multiprocessing/connection.py\", line 379, in _recv\n",
            "    chunk = read(handle, remaining)\n",
            "KeyboardInterrupt\n",
            "KeyboardInterrupt\n",
            "  File \"/usr/lib/python3.10/multiprocessing/connection.py\", line 379, in _recv\n",
            "    chunk = read(handle, remaining)\n",
            "KeyboardInterrupt\n",
            "KeyboardInterrupt\n",
            "  File \"/usr/lib/python3.10/multiprocessing/connection.py\", line 414, in _recv_bytes\n",
            "    buf = self._recv(4)\n",
            "  File \"/usr/lib/python3.10/multiprocessing/connection.py\", line 379, in _recv\n",
            "    chunk = read(handle, remaining)\n",
            "KeyboardInterrupt\n",
            "KeyboardInterrupt\n"
          ]
        }
      ],
      "source": [
        "batch_size= 4\n",
        "epochs = 5 # note should be a lot more\n",
        "train_file_names = [f for f in os.listdir(folder_path_train) if f.endswith('.npy') and 'clean' in f]\n",
        "import gc\n",
        "gc.collect()\n",
        "\n",
        "train_file_names = [f for f in os.listdir(folder_path_train) if f.endswith('.npy') and 'clean' in f]\n",
        "# Training\n",
        "simple_autoencoder_model.fit(train_generator,\n",
        "             steps_per_epoch=4// batch_size,\n",
        "             epochs=epochs,\n",
        "             shuffle=True,\n",
        "             use_multiprocessing=True)\n",
        "             #callbacks=[callback])\n",
        "\n",
        "# Evaluate the model on test data\n",
        "#test_loss = simple_autoencoder.evaluate(test_generator, steps=len(test_file_names) // batch_size)\n",
        "#print(\"Test loss:\", test_loss)\n",
        "\n"
      ]
    },
    {
      "cell_type": "code",
      "execution_count": null,
      "metadata": {
        "colab": {
          "base_uri": "https://localhost:8080/"
        },
        "id": "LKtqquS1n20x",
        "outputId": "c536f255-f47e-4946-8abe-529c269e74db"
      },
      "outputs": [
        {
          "name": "stdout",
          "output_type": "stream",
          "text": [
            "(1536, 64, 64)\n",
            "Loss on single batch: 0.7389211654663086\n"
          ]
        }
      ],
      "source": [
        "single_batch_input, single_batch_target = next(train_generator)\n",
        "print(single_batch_input.shape)\n",
        "loss = simple_autoencoder_model.train_on_batch(single_batch_input, single_batch_target)\n",
        "print(\"Loss on single batch:\", loss)\n"
      ]
    },
    {
      "cell_type": "code",
      "execution_count": null,
      "metadata": {
        "id": "yv6B7BqHn20x"
      },
      "outputs": [],
      "source": []
    }
  ],
  "metadata": {
    "accelerator": "GPU",
    "colab": {
      "provenance": [],
      "gpuType": "T4",
      "include_colab_link": true
    },
    "kernelspec": {
      "display_name": "Python 3",
      "name": "python3"
    },
    "language_info": {
      "codemirror_mode": {
        "name": "ipython",
        "version": 3
      },
      "file_extension": ".py",
      "mimetype": "text/x-python",
      "name": "python",
      "nbconvert_exporter": "python",
      "pygments_lexer": "ipython3",
      "version": "3.9.17"
    }
  },
  "nbformat": 4,
  "nbformat_minor": 0
}